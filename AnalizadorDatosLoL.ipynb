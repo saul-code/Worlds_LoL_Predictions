{
  "nbformat": 4,
  "nbformat_minor": 0,
  "metadata": {
    "colab": {
      "provenance": [],
      "authorship_tag": "ABX9TyOxZnJ3cuqxC2I/cxdOaVJD",
      "include_colab_link": true
    },
    "kernelspec": {
      "name": "python3",
      "display_name": "Python 3"
    },
    "language_info": {
      "name": "python"
    }
  },
  "cells": [
    {
      "cell_type": "markdown",
      "metadata": {
        "id": "view-in-github",
        "colab_type": "text"
      },
      "source": [
        "<a href=\"https://colab.research.google.com/github/saul-code/Worlds_LoL_Predictions/blob/main/AnalizadorDatosLoL.ipynb\" target=\"_parent\"><img src=\"https://colab.research.google.com/assets/colab-badge.svg\" alt=\"Open In Colab\"/></a>"
      ]
    },
    {
      "cell_type": "code",
      "execution_count": null,
      "metadata": {
        "id": "8M1gANhHW_sr"
      },
      "outputs": [],
      "source": [
        "!pip install bs4"
      ]
    },
    {
      "cell_type": "code",
      "source": [
        "from bs4 import BeautifulSoup\n",
        "import requests\n",
        "import pandas as pd\n",
        "\n",
        "years = [2011,2012,2013,2014,2015,2016,2017,2018,2019,2020,2021,2022]\n",
        "\n",
        "def get_matches(year):\n",
        "\n",
        "  if (year >= 2014):\n",
        "    web = f'https://lol.fandom.com/wiki/{year}_Season_World_Championship'\n",
        "  else:\n",
        "    web = f'https://lol.fandom.com/wiki/Season_{str(year)[3]}_World_Championship'\n",
        "\n",
        "  response = requests.get(web)\n",
        "  soup = BeautifulSoup(response.content,'lxml')\n",
        "  matches = soup.find_all('div', class_ ='crossbox-outer')\n",
        "\n",
        "  if ((year > 2013 and year<2017) or year == 2012):\n",
        "    # Quitamos la tabla de partidos entre regiones\n",
        "    matches.pop()\n",
        "\n",
        "  resultados_matches = []\n",
        "  teamA =[]\n",
        "  teamB = []\n",
        "  score = []\n",
        "\n",
        "  for match in matches:\n",
        "    tabla_matches = match.find('table')\n",
        "\n",
        "    for row in tabla_matches.find_all('tr')[1:]:\n",
        "      team1 = row.find('th')['title']\n",
        "\n",
        "      for cell in row.find_all('td'):\n",
        "        if 'crossbox-mirror' in cell.get('class', []):\n",
        "              continue\n",
        "        if 'data-crossbox-highlight-vs' in cell.attrs:\n",
        "          team2 = cell['data-crossbox-highlight-vs']  # Nombre del segundo equipo (team2)\n",
        "          result = cell.get_text(strip=True)  # Resultado del enfrentamiento\n",
        "          if team1 != team2:  # Asegurarse de que no es el equipo contra sí mismo\n",
        "            teamA.append(team1)\n",
        "            score.append(result)\n",
        "            teamB.append(team2)\n",
        "\n",
        "  dict_matches_resultado = {'Team A': teamA, 'score':score,'Team B':teamB,'year':year}\n",
        "  df_matches = pd.DataFrame(dict_matches_resultado)\n",
        "  return df_matches\n",
        "\n",
        "mundial_Lol = [get_matches(year) for year in years]\n",
        "df_mundial_Lol=pd.concat(mundial_Lol, ignore_index = True)\n",
        "df_mundial_Lol.to_csv('data_historica_de_LoL.csv',index=False)\n"
      ],
      "metadata": {
        "id": "l-9VaMtdXMm6"
      },
      "execution_count": 11,
      "outputs": []
    },
    {
      "cell_type": "markdown",
      "source": [
        "## Prediccion de Ganador en un mejor de 5\n",
        "\n",
        "### Paso 1: Calcula la media de victorias (λ)\n",
        "Primero, necesitamos calcular la tasa promedio (λ, lambda) de victorias de tu equipo de interés (digamos, el Equipo A) cuando juega series al mejor de cinco. Esto se basa en datos históricos. Calcularemos el promedio de victorias como la suma de puntos de cada equipo ente el número de las series jugadas.\n",
        "\n",
        "\n",
        "### Paso 2: Aplicar la fórmula de Poisson\n",
        "La fórmula de la distribución de Poisson es:\n",
        "$ P(k; λ) = \\frac{λ^k e^{-λ}}{k!}$\n",
        "Donde:\n",
        "- $P(k; λ)$ es la probabilidad de que ocurran \\(k\\) eventos (en este caso, victorias) cuando el promedio es \\(λ\\).\n",
        "- \\(k\\) es el número de eventos que nos interesa calcular la probabilidad (por ejemplo, necesitamos al menos 3 victorias para ganar una serie al mejor de cinco).\n",
        "- \\(λ\\) es el promedio de eventos (victorias) que calculamos en el paso 1.\n",
        "- \\(e\\) es la base de los logaritmos naturales.\n",
        "\n",
        "### Paso 3: Calcular la probabilidad de ganar la serie\n",
        "Para ganar una serie al mejor de cinco, el Equipo A necesita ganar  3 partidos. Calcularemos la probabilidad de cada uno de los escenarios como 3-2 , 3-1, 3-0.\n",
        "\n"
      ],
      "metadata": {
        "id": "99ETKG2m29Cm"
      }
    },
    {
      "cell_type": "code",
      "source": [
        "import matplotlib.pyplot as plt\n",
        "from math import exp, factorial\n",
        "\n",
        "# Función de Poisson\n",
        "def poisson(k, lambda_):\n",
        "    return (lambda_ ** k) * exp(-lambda_) / factorial(k)\n",
        "\n",
        "\n",
        "def poisson_probability(teamA, teamB, df_data_historica):\n",
        "    \"\"\"\n",
        "    Calcula la probabilidad de que el equipo A gane al equipo B en un formato de mejor de 5 utilizando la distribución de Poisson.\n",
        "\n",
        "    Args:\n",
        "        teamA (str): Nombre del equipo A.\n",
        "        teamB (str): Nombre del equipo B.\n",
        "        df_data_historica (pd.DataFrame): DataFrame con datos históricos de partidos.\n",
        "\n",
        "    Returns:\n",
        "        tuple: (prob_A, prob_B) donde prob_A es la probabilidad de que el equipo A gane y prob_B es la probabilidad de que el equipo B gane.\n",
        "    \"\"\"\n",
        "    # Calcula los puntos promedio marcados por cada equipo\n",
        "    points_for_A = df_data_historica[df_data_historica['Team A'] == teamA]['score'].str.split('-').apply(lambda x: int(x[0])).mean()\n",
        "    points_for_B = df_data_historica[df_data_historica['Team B'] == teamB]['score'].str.split('-').apply(lambda x: int(x[1])).mean()\n",
        "\n",
        "    # Inicializa las probabilidades de que cada equipo gane la serie\n",
        "    prob_A_wins_series = 0\n",
        "    prob_B_wins_series = 0\n",
        "\n",
        "    # Calcula la probabilidad de que cada equipo gane 0 a 3 partidos utilizando la distribución de Poisson\n",
        "    probs_A = [poisson(k, points_for_A) for k in range(4)]\n",
        "    probs_B = [poisson(k, points_for_B) for k in range(4)]\n",
        "\n",
        "\n",
        "    # Calcula las combinaciones donde un equipo gana la serie\n",
        "    for i in range(1, 4):  # Un equipo necesita ganar al menos 3 partidas para ganar la serie\n",
        "        for j in range(0, i):\n",
        "            prob_A_wins_series += probs_A[i] * probs_B[j]  # Probabilidad de que A gane i partidas y B gane j partidas\n",
        "            prob_B_wins_series += probs_A[j] * probs_B[i]  # Inverso para B\n",
        "    if(prob_A > prob_B):\n",
        "      return prob_A_wins_series, prob_B_wins_series,teamA\n",
        "    else:\n",
        "      return prob_A_wins_series, prob_B_wins_series,teamB\n",
        "\n",
        "# Ejemplo de uso con equipos ficticios y datos históricos (df_data_historica debería estar definido previamente)\n",
        "team_A = 'T1'\n",
        "team_B = 'EDward Gaming'\n",
        "prob_A, prob_B,ganador = poisson_probability(team_A,team_B, df_data_historica)\n",
        "print(f'{team_A} vs {team_B} en una serie de mejor de 5 ganaria {ganador}\\n')\n",
        "print(f'{team_A} con probabilidad de {prob_A}')\n",
        "print(f'{team_B} con probabilidad de {prob_B}')\n"
      ],
      "metadata": {
        "colab": {
          "base_uri": "https://localhost:8080/"
        },
        "id": "NNegVwtmotLg",
        "outputId": "0635bb74-12bf-4fae-eb6b-1452ef35f78a"
      },
      "execution_count": 77,
      "outputs": [
        {
          "output_type": "stream",
          "name": "stdout",
          "text": [
            "T1 vs EDward Gaming en una serie de mejor de 5 ganaria T1\n",
            "\n",
            "T1 con probabilidad de 0.3929790471320857\n",
            "EDward Gaming con probabilidad de 0.24671775491740064\n"
          ]
        }
      ]
    },
    {
      "cell_type": "code",
      "source": [],
      "metadata": {
        "id": "bto56mN10Cnh"
      },
      "execution_count": null,
      "outputs": []
    }
  ]
}